{
 "cells": [
  {
   "cell_type": "markdown",
   "metadata": {},
   "source": [
    "# BBC News Classification Kaggle Mini-Project"
   ]
  },
  {
   "cell_type": "code",
   "execution_count": null,
   "metadata": {},
   "outputs": [],
   "source": [
    "Github: https://github.com/AnushaK7018/UnsupervisedLearning"
   ]
  },
  {
   "cell_type": "markdown",
   "metadata": {},
   "source": [
    "## Exploratory Data Analysis (EDA)"
   ]
  },
  {
   "cell_type": "code",
   "execution_count": 1,
   "metadata": {},
   "outputs": [],
   "source": [
    "# Import Required Libraries\n",
    "import pandas as pd\n",
    "import matplotlib.pyplot as plt\n",
    "import numpy as np\n",
    "import time\n",
    "from sklearn.model_selection import train_test_split\n",
    "from scipy.sparse import coo_matrix, csr_matrix\n",
    "from scipy.spatial.distance import jaccard, cosine \n",
    "from pytest import approx\n",
    "from sklearn.feature_extraction.text import CountVectorizer, TfidfVectorizer\n",
    "from collections import Counter\n",
    "import re"
   ]
  },
  {
   "cell_type": "markdown",
   "metadata": {},
   "source": [
    "### Data Cleaning and Insepection"
   ]
  },
  {
   "cell_type": "code",
   "execution_count": 2,
   "metadata": {},
   "outputs": [],
   "source": [
    "#Read the data\n",
    "sample_sol = pd.read_csv('data/BBC News Sample Solution.csv')\n",
    "test_data = pd.read_csv('data/BBC News Test.csv')\n",
    "train_data = pd.read_csv('data/BBC News Train.csv')\n"
   ]
  },
  {
   "cell_type": "code",
   "execution_count": 3,
   "metadata": {},
   "outputs": [
    {
     "data": {
      "text/html": [
       "<div>\n",
       "<style scoped>\n",
       "    .dataframe tbody tr th:only-of-type {\n",
       "        vertical-align: middle;\n",
       "    }\n",
       "\n",
       "    .dataframe tbody tr th {\n",
       "        vertical-align: top;\n",
       "    }\n",
       "\n",
       "    .dataframe thead th {\n",
       "        text-align: right;\n",
       "    }\n",
       "</style>\n",
       "<table border=\"1\" class=\"dataframe\">\n",
       "  <thead>\n",
       "    <tr style=\"text-align: right;\">\n",
       "      <th></th>\n",
       "      <th>ArticleId</th>\n",
       "      <th>Text</th>\n",
       "      <th>Category</th>\n",
       "    </tr>\n",
       "  </thead>\n",
       "  <tbody>\n",
       "    <tr>\n",
       "      <th>0</th>\n",
       "      <td>1833</td>\n",
       "      <td>worldcom ex-boss launches defence lawyers defe...</td>\n",
       "      <td>business</td>\n",
       "    </tr>\n",
       "    <tr>\n",
       "      <th>1</th>\n",
       "      <td>154</td>\n",
       "      <td>german business confidence slides german busin...</td>\n",
       "      <td>business</td>\n",
       "    </tr>\n",
       "    <tr>\n",
       "      <th>2</th>\n",
       "      <td>1101</td>\n",
       "      <td>bbc poll indicates economic gloom citizens in ...</td>\n",
       "      <td>business</td>\n",
       "    </tr>\n",
       "    <tr>\n",
       "      <th>3</th>\n",
       "      <td>1976</td>\n",
       "      <td>lifestyle  governs mobile choice  faster  bett...</td>\n",
       "      <td>tech</td>\n",
       "    </tr>\n",
       "    <tr>\n",
       "      <th>4</th>\n",
       "      <td>917</td>\n",
       "      <td>enron bosses in $168m payout eighteen former e...</td>\n",
       "      <td>business</td>\n",
       "    </tr>\n",
       "  </tbody>\n",
       "</table>\n",
       "</div>"
      ],
      "text/plain": [
       "   ArticleId                                               Text  Category\n",
       "0       1833  worldcom ex-boss launches defence lawyers defe...  business\n",
       "1        154  german business confidence slides german busin...  business\n",
       "2       1101  bbc poll indicates economic gloom citizens in ...  business\n",
       "3       1976  lifestyle  governs mobile choice  faster  bett...      tech\n",
       "4        917  enron bosses in $168m payout eighteen former e...  business"
      ]
     },
     "execution_count": 3,
     "metadata": {},
     "output_type": "execute_result"
    }
   ],
   "source": [
    "train_data.head()"
   ]
  },
  {
   "cell_type": "code",
   "execution_count": 4,
   "metadata": {},
   "outputs": [
    {
     "data": {
      "text/html": [
       "<div>\n",
       "<style scoped>\n",
       "    .dataframe tbody tr th:only-of-type {\n",
       "        vertical-align: middle;\n",
       "    }\n",
       "\n",
       "    .dataframe tbody tr th {\n",
       "        vertical-align: top;\n",
       "    }\n",
       "\n",
       "    .dataframe thead th {\n",
       "        text-align: right;\n",
       "    }\n",
       "</style>\n",
       "<table border=\"1\" class=\"dataframe\">\n",
       "  <thead>\n",
       "    <tr style=\"text-align: right;\">\n",
       "      <th></th>\n",
       "      <th>ArticleId</th>\n",
       "      <th>Text</th>\n",
       "    </tr>\n",
       "  </thead>\n",
       "  <tbody>\n",
       "    <tr>\n",
       "      <th>0</th>\n",
       "      <td>1018</td>\n",
       "      <td>qpr keeper day heads for preston queens park r...</td>\n",
       "    </tr>\n",
       "    <tr>\n",
       "      <th>1</th>\n",
       "      <td>1319</td>\n",
       "      <td>software watching while you work software that...</td>\n",
       "    </tr>\n",
       "    <tr>\n",
       "      <th>2</th>\n",
       "      <td>1138</td>\n",
       "      <td>d arcy injury adds to ireland woe gordon d arc...</td>\n",
       "    </tr>\n",
       "    <tr>\n",
       "      <th>3</th>\n",
       "      <td>459</td>\n",
       "      <td>india s reliance family feud heats up the ongo...</td>\n",
       "    </tr>\n",
       "    <tr>\n",
       "      <th>4</th>\n",
       "      <td>1020</td>\n",
       "      <td>boro suffer morrison injury blow middlesbrough...</td>\n",
       "    </tr>\n",
       "  </tbody>\n",
       "</table>\n",
       "</div>"
      ],
      "text/plain": [
       "   ArticleId                                               Text\n",
       "0       1018  qpr keeper day heads for preston queens park r...\n",
       "1       1319  software watching while you work software that...\n",
       "2       1138  d arcy injury adds to ireland woe gordon d arc...\n",
       "3        459  india s reliance family feud heats up the ongo...\n",
       "4       1020  boro suffer morrison injury blow middlesbrough..."
      ]
     },
     "execution_count": 4,
     "metadata": {},
     "output_type": "execute_result"
    }
   ],
   "source": [
    "test_data.head()"
   ]
  },
  {
   "cell_type": "code",
   "execution_count": 27,
   "metadata": {},
   "outputs": [
    {
     "name": "stdout",
     "output_type": "stream",
     "text": [
      "<class 'pandas.core.frame.DataFrame'>\n",
      "RangeIndex: 1490 entries, 0 to 1489\n",
      "Data columns (total 4 columns):\n",
      " #   Column        Non-Null Count  Dtype \n",
      "---  ------        --------------  ----- \n",
      " 0   ArticleId     1490 non-null   int64 \n",
      " 1   Text          1490 non-null   object\n",
      " 2   Category      1490 non-null   object\n",
      " 3   cleaned_text  1490 non-null   object\n",
      "dtypes: int64(1), object(3)\n",
      "memory usage: 46.7+ KB\n"
     ]
    }
   ],
   "source": [
    "train_data.info()"
   ]
  },
  {
   "cell_type": "code",
   "execution_count": 28,
   "metadata": {},
   "outputs": [
    {
     "name": "stdout",
     "output_type": "stream",
     "text": [
      "<class 'pandas.core.frame.DataFrame'>\n",
      "RangeIndex: 735 entries, 0 to 734\n",
      "Data columns (total 5 columns):\n",
      " #   Column                      Non-Null Count  Dtype \n",
      "---  ------                      --------------  ----- \n",
      " 0   ArticleId                   735 non-null    int64 \n",
      " 1   Text                        735 non-null    object\n",
      " 2   cleaned_text                735 non-null    object\n",
      " 3   dominant_topic              735 non-null    int64 \n",
      " 4   predicted_category_initial  735 non-null    object\n",
      "dtypes: int64(2), object(3)\n",
      "memory usage: 28.8+ KB\n"
     ]
    }
   ],
   "source": [
    "test_data.info()"
   ]
  },
  {
   "cell_type": "code",
   "execution_count": 29,
   "metadata": {},
   "outputs": [
    {
     "data": {
      "text/plain": [
       "Category\n",
       "business         336\n",
       "entertainment    273\n",
       "politics         274\n",
       "sport            346\n",
       "tech             261\n",
       "Name: Text, dtype: int64"
      ]
     },
     "execution_count": 29,
     "metadata": {},
     "output_type": "execute_result"
    }
   ],
   "source": [
    "train_data.groupby('Category')['Text'].count()"
   ]
  },
  {
   "cell_type": "code",
   "execution_count": 5,
   "metadata": {},
   "outputs": [
    {
     "data": {
      "text/html": [
       "<div>\n",
       "<style scoped>\n",
       "    .dataframe tbody tr th:only-of-type {\n",
       "        vertical-align: middle;\n",
       "    }\n",
       "\n",
       "    .dataframe tbody tr th {\n",
       "        vertical-align: top;\n",
       "    }\n",
       "\n",
       "    .dataframe thead th {\n",
       "        text-align: right;\n",
       "    }\n",
       "</style>\n",
       "<table border=\"1\" class=\"dataframe\">\n",
       "  <thead>\n",
       "    <tr style=\"text-align: right;\">\n",
       "      <th></th>\n",
       "      <th>Text</th>\n",
       "      <th>cleaned_text</th>\n",
       "    </tr>\n",
       "  </thead>\n",
       "  <tbody>\n",
       "    <tr>\n",
       "      <th>0</th>\n",
       "      <td>worldcom ex-boss launches defence lawyers defe...</td>\n",
       "      <td>worldcom exboss launches defence lawyers defen...</td>\n",
       "    </tr>\n",
       "    <tr>\n",
       "      <th>1</th>\n",
       "      <td>german business confidence slides german busin...</td>\n",
       "      <td>german business confidence slides german busin...</td>\n",
       "    </tr>\n",
       "    <tr>\n",
       "      <th>2</th>\n",
       "      <td>bbc poll indicates economic gloom citizens in ...</td>\n",
       "      <td>bbc poll indicates economic gloom citizens in ...</td>\n",
       "    </tr>\n",
       "    <tr>\n",
       "      <th>3</th>\n",
       "      <td>lifestyle  governs mobile choice  faster  bett...</td>\n",
       "      <td>lifestyle  governs mobile choice  faster  bett...</td>\n",
       "    </tr>\n",
       "    <tr>\n",
       "      <th>4</th>\n",
       "      <td>enron bosses in $168m payout eighteen former e...</td>\n",
       "      <td>enron bosses in m payout eighteen former enron...</td>\n",
       "    </tr>\n",
       "  </tbody>\n",
       "</table>\n",
       "</div>"
      ],
      "text/plain": [
       "                                                Text  \\\n",
       "0  worldcom ex-boss launches defence lawyers defe...   \n",
       "1  german business confidence slides german busin...   \n",
       "2  bbc poll indicates economic gloom citizens in ...   \n",
       "3  lifestyle  governs mobile choice  faster  bett...   \n",
       "4  enron bosses in $168m payout eighteen former e...   \n",
       "\n",
       "                                        cleaned_text  \n",
       "0  worldcom exboss launches defence lawyers defen...  \n",
       "1  german business confidence slides german busin...  \n",
       "2  bbc poll indicates economic gloom citizens in ...  \n",
       "3  lifestyle  governs mobile choice  faster  bett...  \n",
       "4  enron bosses in m payout eighteen former enron...  "
      ]
     },
     "execution_count": 5,
     "metadata": {},
     "output_type": "execute_result"
    }
   ],
   "source": [
    "# Cleaning function\n",
    "def clean_text_sklearn(text):\n",
    "    text = text.lower()\n",
    "    text = re.sub(r'\\d+', '', text)\n",
    "    text = re.sub(r'[^\\w\\s]', '', text)\n",
    "    return text\n",
    "\n",
    "train_data['cleaned_text'] = train_data['Text'].apply(clean_text_sklearn)\n",
    "\n",
    "# Display first few rows of cleaned data\n",
    "train_data[['Text', 'cleaned_text']].head()"
   ]
  },
  {
   "cell_type": "markdown",
   "metadata": {},
   "source": [
    "### Data Visualization"
   ]
  },
  {
   "cell_type": "code",
   "execution_count": 6,
   "metadata": {},
   "outputs": [
    {
     "data": {
      "image/png": "[encoded data removed]",
      "text/plain": [
       "<Figure size 720x360 with 1 Axes>"
      ]
     },
     "metadata": {
      "needs_background": "light"
     },
     "output_type": "display_data"
    }
   ],
   "source": [
    "# importing matplotlib.pyplot\n",
    "import matplotlib.pyplot as plt\n",
    "\n",
    "all_words = ' '.join(train_data['cleaned_text']).split()\n",
    "word_counts = Counter(all_words)\n",
    "common_words = word_counts.most_common(20)\n",
    "words, counts = zip(*common_words)\n",
    "\n",
    "# Data visualization\n",
    "plt.figure(figsize=(10, 5))\n",
    "plt.bar(words, counts)\n",
    "plt.title('Top 20 most common words')\n",
    "plt.xlabel('Words')\n",
    "plt.ylabel('Counts')\n",
    "plt.xticks(rotation=45)\n",
    "plt.show()"
   ]
  },
  {
   "cell_type": "markdown",
   "metadata": {},
   "source": [
    "#### Feature Extraction Using TF-IDF"
   ]
  },
  {
   "cell_type": "code",
   "execution_count": 8,
   "metadata": {},
   "outputs": [
    {
     "data": {
      "text/plain": [
       "(1490, 1000)"
      ]
     },
     "execution_count": 8,
     "metadata": {},
     "output_type": "execute_result"
    }
   ],
   "source": [
    "from sklearn.feature_extraction.text import TfidfVectorizer\n",
    "\n",
    "tfidf = TfidfVectorizer(max_features=1000)\n",
    "X_train_tfidf = tfidf.fit_transform(train_data['cleaned_text'])\n",
    "X_train_tfidf.shape"
   ]
  },
  {
   "cell_type": "markdown",
   "metadata": {},
   "source": [
    "## Building and Training Models"
   ]
  },
  {
   "cell_type": "code",
   "execution_count": 10,
   "metadata": {},
   "outputs": [
    {
     "data": {
      "text/plain": [
       "(1490, 10)"
      ]
     },
     "execution_count": 10,
     "metadata": {},
     "output_type": "execute_result"
    }
   ],
   "source": [
    "#Matrix Factorization with LDA\n",
    "from sklearn.decomposition import LatentDirichletAllocation\n",
    "\n",
    "lda = LatentDirichletAllocation(n_components=10, random_state=42)\n",
    "lda.fit(X_train_tfidf)\n",
    "\n",
    "X_train_lda = lda.transform(X_train_tfidf)\n",
    "X_train_lda.shape"
   ]
  },
  {
   "cell_type": "code",
   "execution_count": 11,
   "metadata": {},
   "outputs": [],
   "source": [
    "# Predicting and Evaluating\n",
    "def display_topics(model, feature_names, no_top_words):\n",
    "    topics = []\n",
    "    for topic_idx, topic in enumerate(model.components_):\n",
    "        topics.append(\" \".join([feature_names[i] for i in topic.argsort()[:-no_top_words - 1:-1]]))\n",
    "    return topics\n",
    "\n",
    "no_top_words = 10\n",
    "tfidf_feature_names = tfidf.get_feature_names()\n",
    "topics = display_topics(lda, tfidf_feature_names, no_top_words)"
   ]
  },
  {
   "cell_type": "markdown",
   "metadata": {},
   "source": [
    "#### Comparison With Supervised Learning\n"
   ]
  },
  {
   "cell_type": "code",
   "execution_count": 12,
   "metadata": {},
   "outputs": [
    {
     "name": "stdout",
     "output_type": "stream",
     "text": [
      "Logistic Regression Results:\n",
      "   Accuracy                                   Confusion Matrix\n",
      "0  0.969799  [[74, 0, 1, 0, 0], [2, 43, 1, 0, 0], [2, 0, 54...\n"
     ]
    },
    {
     "data": {
      "text/plain": [
       "(['the to of and in that is mobile people it',\n",
       "  'growth sales dollar the film economy prices best in rates',\n",
       "  'pcs mini phones google band friday member tony computers am',\n",
       "  'pcs mini phones google band friday member tony computers am',\n",
       "  'pcs mini phones google band friday member tony computers am',\n",
       "  'pcs mini phones google band friday member tony computers am',\n",
       "  'pcs mini phones google band friday member tony computers am',\n",
       "  'pcs mini phones google band friday member tony computers am',\n",
       "  'labour election mr blair party the brown howard tory lib',\n",
       "  'the to in of and for is on he it'],\n",
       " 0.9697986577181208,\n",
       " array([[74,  0,  1,  0,  0],\n",
       "        [ 2, 43,  1,  0,  0],\n",
       "        [ 2,  0, 54,  0,  0],\n",
       "        [ 0,  0,  0, 63,  0],\n",
       "        [ 2,  0,  1,  0, 55]]))"
      ]
     },
     "execution_count": 12,
     "metadata": {},
     "output_type": "execute_result"
    }
   ],
   "source": [
    "#Training a Supervised Model\n",
    "\n",
    "from sklearn.model_selection import train_test_split\n",
    "from sklearn.linear_model import LogisticRegression\n",
    "from sklearn.metrics import accuracy_score, confusion_matrix\n",
    "\n",
    "X_train, X_val, y_train, y_val = train_test_split(X_train_tfidf, train_data['Category'], test_size=0.2, random_state=42)\n",
    "\n",
    "model = LogisticRegression(max_iter=1000)\n",
    "model.fit(X_train, y_train)\n",
    "y_pred = model.predict(X_val)\n",
    "\n",
    "accuracy = accuracy_score(y_val, y_pred)\n",
    "conf_matrix = confusion_matrix(y_val, y_pred)\n",
    "\n",
    "# display the results using standard pandas methods.\n",
    "results_df = pd.DataFrame({'Accuracy': [accuracy], 'Confusion Matrix': [conf_matrix.tolist()]})\n",
    "print(\"Logistic Regression Results:\")\n",
    "print(results_df)\n",
    "\n",
    "topics, accuracy, conf_matrix"
   ]
  },
  {
   "cell_type": "markdown",
   "metadata": {},
   "source": [
    "## Evaluate LDA on test data"
   ]
  },
  {
   "cell_type": "code",
   "execution_count": 13,
   "metadata": {},
   "outputs": [
    {
     "data": {
      "text/plain": [
       "(735, 10)"
      ]
     },
     "execution_count": 13,
     "metadata": {},
     "output_type": "execute_result"
    }
   ],
   "source": [
    "# Cleaning the test data\n",
    "test_data['cleaned_text'] = test_data['Text'].apply(clean_text_sklearn)\n",
    "\n",
    "# Transform the test data using the same TF-IDF vectorizer\n",
    "X_test_tfidf = tfidf.transform(test_data['cleaned_text'])\n",
    "\n",
    "# Transform the test data using the trained LDA model\n",
    "X_test_lda = lda.transform(X_test_tfidf)\n",
    "\n",
    "# Display the shape of the LDA-transformed test data\n",
    "X_test_lda.shape"
   ]
  },
  {
   "cell_type": "code",
   "execution_count": 14,
   "metadata": {},
   "outputs": [],
   "source": [
    "# Function to get dominant topic\n",
    "def get_dominant_topic(lda_model, transformed_data):\n",
    "    dominant_topics = []\n",
    "    for i in range(transformed_data.shape[0]):\n",
    "        dominant_topic = transformed_data[i].argmax()\n",
    "        dominant_topics.append(dominant_topic)\n",
    "    return dominant_topics\n",
    "\n",
    "# Get dominant topics for test data\n",
    "test_dominant_topics = get_dominant_topic(lda, X_test_lda)\n",
    "\n",
    "# Adding dominant topics to the test data\n",
    "test_data['dominant_topic'] = test_dominant_topics\n",
    "\n"
   ]
  },
  {
   "cell_type": "code",
   "execution_count": 15,
   "metadata": {},
   "outputs": [
    {
     "data": {
      "image/png": "[encoded data removed]",
      "text/plain": [
       "<Figure size 720x360 with 1 Axes>"
      ]
     },
     "metadata": {
      "needs_background": "light"
     },
     "output_type": "display_data"
    },
    {
     "data": {
      "text/html": [
       "<div>\n",
       "<style scoped>\n",
       "    .dataframe tbody tr th:only-of-type {\n",
       "        vertical-align: middle;\n",
       "    }\n",
       "\n",
       "    .dataframe tbody tr th {\n",
       "        vertical-align: top;\n",
       "    }\n",
       "\n",
       "    .dataframe thead th {\n",
       "        text-align: right;\n",
       "    }\n",
       "</style>\n",
       "<table border=\"1\" class=\"dataframe\">\n",
       "  <thead>\n",
       "    <tr style=\"text-align: right;\">\n",
       "      <th></th>\n",
       "      <th>Text</th>\n",
       "      <th>dominant_topic</th>\n",
       "    </tr>\n",
       "  </thead>\n",
       "  <tbody>\n",
       "    <tr>\n",
       "      <th>0</th>\n",
       "      <td>qpr keeper day heads for preston queens park r...</td>\n",
       "      <td>9</td>\n",
       "    </tr>\n",
       "    <tr>\n",
       "      <th>1</th>\n",
       "      <td>software watching while you work software that...</td>\n",
       "      <td>0</td>\n",
       "    </tr>\n",
       "    <tr>\n",
       "      <th>2</th>\n",
       "      <td>d arcy injury adds to ireland woe gordon d arc...</td>\n",
       "      <td>9</td>\n",
       "    </tr>\n",
       "    <tr>\n",
       "      <th>3</th>\n",
       "      <td>india s reliance family feud heats up the ongo...</td>\n",
       "      <td>9</td>\n",
       "    </tr>\n",
       "    <tr>\n",
       "      <th>4</th>\n",
       "      <td>boro suffer morrison injury blow middlesbrough...</td>\n",
       "      <td>9</td>\n",
       "    </tr>\n",
       "  </tbody>\n",
       "</table>\n",
       "</div>"
      ],
      "text/plain": [
       "                                                Text  dominant_topic\n",
       "0  qpr keeper day heads for preston queens park r...               9\n",
       "1  software watching while you work software that...               0\n",
       "2  d arcy injury adds to ireland woe gordon d arc...               9\n",
       "3  india s reliance family feud heats up the ongo...               9\n",
       "4  boro suffer morrison injury blow middlesbrough...               9"
      ]
     },
     "execution_count": 15,
     "metadata": {},
     "output_type": "execute_result"
    }
   ],
   "source": [
    "# Visualize the distribution of topics in test data\n",
    "import seaborn as sns\n",
    "\n",
    "plt.figure(figsize=(10, 5))\n",
    "sns.countplot(x='dominant_topic', data=test_data)\n",
    "plt.title('Distribution of Dominant Topics in Test Data')\n",
    "plt.xlabel('Topic')\n",
    "plt.ylabel('Frequency')\n",
    "plt.show()\n",
    "\n",
    "# Display first few rows with dominant topics\n",
    "test_data[['Text', 'dominant_topic']].head()"
   ]
  },
  {
   "cell_type": "markdown",
   "metadata": {},
   "source": [
    "### Compare LDA topics with actual labels"
   ]
  },
  {
   "cell_type": "code",
   "execution_count": 16,
   "metadata": {},
   "outputs": [
    {
     "data": {
      "text/plain": [
       "Index(['ArticleId', 'Category'], dtype='object')"
      ]
     },
     "execution_count": 16,
     "metadata": {},
     "output_type": "execute_result"
    }
   ],
   "source": [
    "# Inspect the columns of the test dataset to understand its structure\n",
    "test_data_labeled = sample_sol.copy()\n",
    "test_data_labeled.columns"
   ]
  },
  {
   "cell_type": "code",
   "execution_count": 17,
   "metadata": {},
   "outputs": [
    {
     "data": {
      "text/html": [
       "<div>\n",
       "<style scoped>\n",
       "    .dataframe tbody tr th:only-of-type {\n",
       "        vertical-align: middle;\n",
       "    }\n",
       "\n",
       "    .dataframe tbody tr th {\n",
       "        vertical-align: top;\n",
       "    }\n",
       "\n",
       "    .dataframe thead th {\n",
       "        text-align: right;\n",
       "    }\n",
       "</style>\n",
       "<table border=\"1\" class=\"dataframe\">\n",
       "  <thead>\n",
       "    <tr style=\"text-align: right;\">\n",
       "      <th></th>\n",
       "      <th>Text</th>\n",
       "      <th>Category</th>\n",
       "      <th>dominant_topic</th>\n",
       "    </tr>\n",
       "  </thead>\n",
       "  <tbody>\n",
       "    <tr>\n",
       "      <th>0</th>\n",
       "      <td>qpr keeper day heads for preston queens park r...</td>\n",
       "      <td>sport</td>\n",
       "      <td>9</td>\n",
       "    </tr>\n",
       "    <tr>\n",
       "      <th>1</th>\n",
       "      <td>software watching while you work software that...</td>\n",
       "      <td>tech</td>\n",
       "      <td>0</td>\n",
       "    </tr>\n",
       "    <tr>\n",
       "      <th>2</th>\n",
       "      <td>d arcy injury adds to ireland woe gordon d arc...</td>\n",
       "      <td>business</td>\n",
       "      <td>9</td>\n",
       "    </tr>\n",
       "    <tr>\n",
       "      <th>3</th>\n",
       "      <td>india s reliance family feud heats up the ongo...</td>\n",
       "      <td>entertainment</td>\n",
       "      <td>9</td>\n",
       "    </tr>\n",
       "    <tr>\n",
       "      <th>4</th>\n",
       "      <td>boro suffer morrison injury blow middlesbrough...</td>\n",
       "      <td>politics</td>\n",
       "      <td>9</td>\n",
       "    </tr>\n",
       "  </tbody>\n",
       "</table>\n",
       "</div>"
      ],
      "text/plain": [
       "                                                Text       Category  \\\n",
       "0  qpr keeper day heads for preston queens park r...          sport   \n",
       "1  software watching while you work software that...           tech   \n",
       "2  d arcy injury adds to ireland woe gordon d arc...       business   \n",
       "3  india s reliance family feud heats up the ongo...  entertainment   \n",
       "4  boro suffer morrison injury blow middlesbrough...       politics   \n",
       "\n",
       "   dominant_topic  \n",
       "0               9  \n",
       "1               0  \n",
       "2               9  \n",
       "3               9  \n",
       "4               9  "
      ]
     },
     "execution_count": 17,
     "metadata": {},
     "output_type": "execute_result"
    }
   ],
   "source": [
    "# Merge the test data with the labels\n",
    "merged_test_data = pd.merge(test_data, test_data_labeled, on='ArticleId')\n",
    "\n",
    "# Clean the merged test data\n",
    "merged_test_data['cleaned_text'] = merged_test_data['Text'].apply(clean_text_sklearn)\n",
    "\n",
    "# Transform the merged test data using the same TF-IDF vectorizer and LDA model\n",
    "X_merged_test_tfidf = tfidf.transform(merged_test_data['cleaned_text'])\n",
    "X_merged_test_lda = lda.transform(X_merged_test_tfidf)\n",
    "\n",
    "# Get dominant topics for the merged test data\n",
    "merged_test_data['dominant_topic'] = get_dominant_topic(lda, X_merged_test_lda)\n",
    "\n",
    "# Display the first few rows with text, category, and dominant topic\n",
    "merged_test_data[['Text', 'Category', 'dominant_topic']].head()"
   ]
  },
  {
   "cell_type": "markdown",
   "metadata": {},
   "source": [
    "### Hyperparameter tuning for LDA topics"
   ]
  },
  {
   "cell_type": "code",
   "execution_count": 18,
   "metadata": {},
   "outputs": [
    {
     "name": "stdout",
     "output_type": "stream",
     "text": [
      "Number of Topics: 5, Coherence Score: 0.018478574890303037\n",
      "Number of Topics: 10, Coherence Score: 0.0036320920968880735\n",
      "Number of Topics: 15, Coherence Score: 0.012885201498701229\n",
      "Number of Topics: 20, Coherence Score: 0.02261499889440562\n",
      "Number of Topics: 25, Coherence Score: 0.01947581186777088\n",
      "Number of Topics: 30, Coherence Score: 0.00747184867220505\n"
     ]
    },
    {
     "data": {
      "image/png": "[encoded data removed]",
      "text/plain": [
       "<Figure size 720x360 with 1 Axes>"
      ]
     },
     "metadata": {
      "needs_background": "light"
     },
     "output_type": "display_data"
    }
   ],
   "source": [
    "from sklearn.metrics import silhouette_score\n",
    "import numpy as np\n",
    "\n",
    "# Define a range of topics to explore\n",
    "topic_range = [5, 10, 15, 20, 25, 30]\n",
    "coherence_scores = []\n",
    "\n",
    "# Function to calculate coherence score\n",
    "def calculate_coherence(lda_model, data):\n",
    "    topics = lda_model.transform(data)\n",
    "    return silhouette_score(data, np.argmax(topics, axis=1))\n",
    "\n",
    "# Train LDA models with different numbers of topics and calculate coherence scores\n",
    "for n_topics in topic_range:\n",
    "    lda = LatentDirichletAllocation(n_components=n_topics, random_state=42)\n",
    "    lda.fit(X_train_tfidf)\n",
    "    coherence_score = calculate_coherence(lda, X_train_tfidf)\n",
    "    coherence_scores.append(coherence_score)\n",
    "    print(f\"Number of Topics: {n_topics}, Coherence Score: {coherence_score}\")\n",
    "\n",
    "# Plot the coherence scores\n",
    "plt.figure(figsize=(10, 5))\n",
    "plt.plot(topic_range, coherence_scores, marker='o')\n",
    "plt.title('Coherence Score vs. Number of Topics')\n",
    "plt.xlabel('Number of Topics')\n",
    "plt.ylabel('Coherence Score')\n",
    "plt.show()"
   ]
  },
  {
   "cell_type": "markdown",
   "metadata": {},
   "source": [
    "Based on the coherence scores, we will proceed with the LDA model using 20 topics as the optimal number. This model should provide a good balance between topic granularity and interpretability."
   ]
  },
  {
   "cell_type": "code",
   "execution_count": 19,
   "metadata": {},
   "outputs": [
    {
     "name": "stdout",
     "output_type": "stream",
     "text": [
      "Optimal LDA Topics Comparison\n",
      "                                                Text       Category  \\\n",
      "0  qpr keeper day heads for preston queens park r...          sport   \n",
      "1  software watching while you work software that...           tech   \n",
      "2  d arcy injury adds to ireland woe gordon d arc...       business   \n",
      "3  india s reliance family feud heats up the ongo...  entertainment   \n",
      "4  boro suffer morrison injury blow middlesbrough...       politics   \n",
      "\n",
      "   dominant_topic_optimal  \n",
      "0                      12  \n",
      "1                      16  \n",
      "2                      12  \n",
      "3                      16  \n",
      "4                      12  \n"
     ]
    },
    {
     "data": {
      "text/html": [
       "<div>\n",
       "<style scoped>\n",
       "    .dataframe tbody tr th:only-of-type {\n",
       "        vertical-align: middle;\n",
       "    }\n",
       "\n",
       "    .dataframe tbody tr th {\n",
       "        vertical-align: top;\n",
       "    }\n",
       "\n",
       "    .dataframe thead th {\n",
       "        text-align: right;\n",
       "    }\n",
       "</style>\n",
       "<table border=\"1\" class=\"dataframe\">\n",
       "  <thead>\n",
       "    <tr style=\"text-align: right;\">\n",
       "      <th></th>\n",
       "      <th>Text</th>\n",
       "      <th>Category</th>\n",
       "      <th>dominant_topic_optimal</th>\n",
       "    </tr>\n",
       "  </thead>\n",
       "  <tbody>\n",
       "    <tr>\n",
       "      <th>0</th>\n",
       "      <td>qpr keeper day heads for preston queens park r...</td>\n",
       "      <td>sport</td>\n",
       "      <td>12</td>\n",
       "    </tr>\n",
       "    <tr>\n",
       "      <th>1</th>\n",
       "      <td>software watching while you work software that...</td>\n",
       "      <td>tech</td>\n",
       "      <td>16</td>\n",
       "    </tr>\n",
       "    <tr>\n",
       "      <th>2</th>\n",
       "      <td>d arcy injury adds to ireland woe gordon d arc...</td>\n",
       "      <td>business</td>\n",
       "      <td>12</td>\n",
       "    </tr>\n",
       "    <tr>\n",
       "      <th>3</th>\n",
       "      <td>india s reliance family feud heats up the ongo...</td>\n",
       "      <td>entertainment</td>\n",
       "      <td>16</td>\n",
       "    </tr>\n",
       "    <tr>\n",
       "      <th>4</th>\n",
       "      <td>boro suffer morrison injury blow middlesbrough...</td>\n",
       "      <td>politics</td>\n",
       "      <td>12</td>\n",
       "    </tr>\n",
       "  </tbody>\n",
       "</table>\n",
       "</div>"
      ],
      "text/plain": [
       "                                                Text       Category  \\\n",
       "0  qpr keeper day heads for preston queens park r...          sport   \n",
       "1  software watching while you work software that...           tech   \n",
       "2  d arcy injury adds to ireland woe gordon d arc...       business   \n",
       "3  india s reliance family feud heats up the ongo...  entertainment   \n",
       "4  boro suffer morrison injury blow middlesbrough...       politics   \n",
       "\n",
       "   dominant_topic_optimal  \n",
       "0                      12  \n",
       "1                      16  \n",
       "2                      12  \n",
       "3                      16  \n",
       "4                      12  "
      ]
     },
     "metadata": {},
     "output_type": "display_data"
    }
   ],
   "source": [
    "# Train LDA with 20 topics as determined by the coherence score\n",
    "optimal_lda = LatentDirichletAllocation(n_components=20, random_state=42)\n",
    "optimal_lda.fit(X_train_tfidf)\n",
    "# Transform the training data\n",
    "X_train_optimal_lda = optimal_lda.transform(X_train_tfidf)\n",
    "\n",
    "# Display topics\n",
    "optimal_topics = display_topics(optimal_lda, tfidf_feature_names, no_top_words)\n",
    "\n",
    "# Evaluate on test data\n",
    "X_test_optimal_lda = optimal_lda.transform(X_test_tfidf)\n",
    "\n",
    "# Get dominant topics for the test data\n",
    "merged_test_data['dominant_topic_optimal'] = get_dominant_topic(optimal_lda, X_test_optimal_lda)\n",
    "\n",
    "# Display the first few rows with text, category, and optimal dominant topic\n",
    "print(\"Optimal LDA Topics Comparison\") \n",
    "print(merged_test_data[['Text', 'Category', 'dominant_topic_optimal']].head())\n",
    "\n",
    "\n",
    "from IPython.display import display\n",
    "display(merged_test_data[['Text', 'Category', 'dominant_topic_optimal']].head())"
   ]
  },
  {
   "cell_type": "markdown",
   "metadata": {},
   "source": [
    "The optimal LDA model with 20 topics shows improved coherence, as reflected in the higher coherence scores.\n",
    "\n",
    "Alignment with Actual Labels: The dominant topics identified by the optimal LDA model show better alignment with the actual categories compared to the initial model with 10 topics. \n",
    "\n",
    "The hyperparameter tuning process has demonstrated that the LDA model with 20 topics provides more coherent and interpretable topics. This model shows improved performance in terms of aligning the discovered topics with the actual categories of the test data."
   ]
  },
  {
   "cell_type": "markdown",
   "metadata": {},
   "source": [
    "### Compare Model Accuracy for All The Models"
   ]
  },
  {
   "cell_type": "code",
   "execution_count": 20,
   "metadata": {},
   "outputs": [
    {
     "data": {
      "text/html": [
       "<div>\n",
       "<style scoped>\n",
       "    .dataframe tbody tr th:only-of-type {\n",
       "        vertical-align: middle;\n",
       "    }\n",
       "\n",
       "    .dataframe tbody tr th {\n",
       "        vertical-align: top;\n",
       "    }\n",
       "\n",
       "    .dataframe thead th {\n",
       "        text-align: right;\n",
       "    }\n",
       "</style>\n",
       "<table border=\"1\" class=\"dataframe\">\n",
       "  <thead>\n",
       "    <tr style=\"text-align: right;\">\n",
       "      <th></th>\n",
       "      <th>Model</th>\n",
       "      <th>Accuracy</th>\n",
       "    </tr>\n",
       "  </thead>\n",
       "  <tbody>\n",
       "    <tr>\n",
       "      <th>0</th>\n",
       "      <td>Initial LDA (10 Topics)</td>\n",
       "      <td>0.208163</td>\n",
       "    </tr>\n",
       "    <tr>\n",
       "      <th>1</th>\n",
       "      <td>Optimal LDA (20 Topics)</td>\n",
       "      <td>0.210884</td>\n",
       "    </tr>\n",
       "    <tr>\n",
       "      <th>2</th>\n",
       "      <td>Logistic Regression</td>\n",
       "      <td>0.969799</td>\n",
       "    </tr>\n",
       "  </tbody>\n",
       "</table>\n",
       "</div>"
      ],
      "text/plain": [
       "                     Model  Accuracy\n",
       "0  Initial LDA (10 Topics)  0.208163\n",
       "1  Optimal LDA (20 Topics)  0.210884\n",
       "2      Logistic Regression  0.969799"
      ]
     },
     "metadata": {},
     "output_type": "display_data"
    },
    {
     "data": {
      "text/plain": [
       "(0.20816326530612245, 0.2108843537414966, 0.9697986577181208)"
      ]
     },
     "execution_count": 20,
     "metadata": {},
     "output_type": "execute_result"
    }
   ],
   "source": [
    "# Function to map topics to categories based on the majority class for each topic\n",
    "def map_topics_to_categories(data, topic_column, category_column):\n",
    "    topic_category_map = data.groupby(topic_column)[category_column].agg(lambda x: x.value_counts().index[0]).to_dict()\n",
    "    return data[topic_column].map(topic_category_map)\n",
    "\n",
    "# Evaluate accuracy for the initial LDA model\n",
    "test_data['predicted_category_initial'] = map_topics_to_categories(merged_test_data, 'dominant_topic', 'Category')\n",
    "accuracy_initial_lda = accuracy_score(merged_test_data['Category'], test_data['predicted_category_initial'])\n",
    "\n",
    "# Evaluate accuracy for the optimal LDA model\n",
    "merged_test_data['predicted_category_optimal'] = map_topics_to_categories(merged_test_data, 'dominant_topic_optimal', 'Category')\n",
    "accuracy_optimal_lda = accuracy_score(merged_test_data['Category'], merged_test_data['predicted_category_optimal'])\n",
    "\n",
    "# Logistic Regression Model Accuracy (already computed previously)\n",
    "accuracy_logistic_regression = accuracy\n",
    "\n",
    "# Display accuracies\n",
    "from IPython.display import display\n",
    "display(pd.DataFrame({\n",
    "    \"Model\": [\"Initial LDA (10 Topics)\", \"Optimal LDA (20 Topics)\", \"Logistic Regression\"],\n",
    "    \"Accuracy\": [accuracy_initial_lda, accuracy_optimal_lda, accuracy_logistic_regression]\n",
    "}))\n",
    "\n",
    "accuracy_initial_lda, accuracy_optimal_lda, accuracy_logistic_regression"
   ]
  },
  {
   "cell_type": "markdown",
   "metadata": {},
   "source": [
    "### Analysis: \n",
    "\n",
    "#### Initial LDA Model (10 Topics): Accuracy: 20.82%\n",
    "\n",
    "This model has a relatively low accuracy, indicating that 10 topics might not be sufficient for capturing the underlying categories. \n",
    "\n",
    "#### Optimal LDA Model (20 Topics): Accuracy: 21.09%\n",
    "\n",
    "The accuracy improved slightly with 20 topics, suggesting better topic coherence and alignment with actual categories. \n",
    "\n",
    "#### Logistic Regression Model: Accuracy: 96.98%\n",
    "\n",
    "The Logistic Regression model significantly outperforms the LDA models, indicating that supervised learning is much more effective for this classification task given the labeled data.\n",
    "\n",
    "### Conclusion\n",
    "\n",
    "LDA Models: While LDA is useful for discovering topics and understanding the structure of the data, it does not perform as well as supervised learning models for classification tasks.\n",
    "\n",
    "Logistic Regression Model: The high accuracy of the Logistic Regression model highlights the effectiveness of supervised learning for this dataset."
   ]
  },
  {
   "cell_type": "markdown",
   "metadata": {},
   "source": [
    "### Exploring Other Unsupervised Learning Methods"
   ]
  },
  {
   "cell_type": "code",
   "execution_count": 21,
   "metadata": {},
   "outputs": [
    {
     "name": "stdout",
     "output_type": "stream",
     "text": [
      "NMF Model Accuracy: 0.46802721088435373\n"
     ]
    }
   ],
   "source": [
    "# Implement Non-Negative Matrix Factorization (NMF)\n",
    "from sklearn.decomposition import NMF\n",
    "from sklearn.cluster import KMeans\n",
    "from sklearn.metrics import accuracy_score\n",
    "\n",
    "# Function to display topics\n",
    "def display_nmf_topics(model, feature_names, no_top_words):\n",
    "    topics = []\n",
    "    for topic_idx, topic in enumerate(model.components_):\n",
    "        topics.append(\" \".join([feature_names[i] for i in topic.argsort()[:-no_top_words - 1:-1]]))\n",
    "    return topics\n",
    "\n",
    "# Train NMF model\n",
    "n_components = 20\n",
    "nmf = NMF(n_components=n_components, random_state=42)\n",
    "W_train_nmf = nmf.fit_transform(X_train_tfidf)\n",
    "H_train_nmf = nmf.components_\n",
    "\n",
    "# Display NMF topics\n",
    "nmf_topics = display_nmf_topics(nmf, tfidf_feature_names, no_top_words)\n",
    "\n",
    "# Transform test data using NMF\n",
    "W_test_nmf = nmf.transform(X_test_tfidf)\n",
    "\n",
    "# Map NMF topics to categories based on the majority class for each topic\n",
    "merged_test_data['dominant_topic_nmf'] = get_dominant_topic(nmf, X_test_tfidf)\n",
    "merged_test_data['predicted_category_nmf'] = map_topics_to_categories(merged_test_data, 'dominant_topic_nmf', 'Category')\n",
    "accuracy_nmf = accuracy_score(merged_test_data['Category'], merged_test_data['predicted_category_nmf'])\n",
    "\n",
    "# Display NMF accuracy\n",
    "print(f\"NMF Model Accuracy: {accuracy_nmf}\")"
   ]
  },
  {
   "cell_type": "code",
   "execution_count": 22,
   "metadata": {},
   "outputs": [
    {
     "name": "stdout",
     "output_type": "stream",
     "text": [
      "K-Means Model Accuracy: 0.27346938775510204\n"
     ]
    }
   ],
   "source": [
    "# Implement K-Means Clustering\n",
    "# Train K-Means model\n",
    "kmeans = KMeans(n_clusters=n_components, random_state=42)\n",
    "kmeans.fit(X_train_tfidf)\n",
    "\n",
    "# Predict clusters for test data\n",
    "merged_test_data['predicted_cluster'] = kmeans.predict(X_test_tfidf)\n",
    "\n",
    "# Map K-Means clusters to categories based on the majority class for each cluster\n",
    "merged_test_data['predicted_category_kmeans'] = map_topics_to_categories(merged_test_data, 'predicted_cluster', 'Category')\n",
    "accuracy_kmeans = accuracy_score(merged_test_data['Category'], merged_test_data['predicted_category_kmeans'])\n",
    "\n",
    "# Display K-Means accuracy\n",
    "print(f\"K-Means Model Accuracy: {accuracy_kmeans}\")"
   ]
  },
  {
   "cell_type": "markdown",
   "metadata": {},
   "source": [
    "#### Model Accuracies Comparison"
   ]
  },
  {
   "cell_type": "code",
   "execution_count": 23,
   "metadata": {},
   "outputs": [
    {
     "name": "stdout",
     "output_type": "stream",
     "text": [
      "--- Model Accuracies Comparison ---\n",
      "\n"
     ]
    },
    {
     "data": {
      "text/html": [
       "<div>\n",
       "<style scoped>\n",
       "    .dataframe tbody tr th:only-of-type {\n",
       "        vertical-align: middle;\n",
       "    }\n",
       "\n",
       "    .dataframe tbody tr th {\n",
       "        vertical-align: top;\n",
       "    }\n",
       "\n",
       "    .dataframe thead th {\n",
       "        text-align: right;\n",
       "    }\n",
       "</style>\n",
       "<table border=\"1\" class=\"dataframe\">\n",
       "  <thead>\n",
       "    <tr style=\"text-align: right;\">\n",
       "      <th></th>\n",
       "      <th>Model</th>\n",
       "      <th>Accuracy</th>\n",
       "    </tr>\n",
       "  </thead>\n",
       "  <tbody>\n",
       "    <tr>\n",
       "      <th>0</th>\n",
       "      <td>NMF</td>\n",
       "      <td>0.468027</td>\n",
       "    </tr>\n",
       "    <tr>\n",
       "      <th>1</th>\n",
       "      <td>K-Means</td>\n",
       "      <td>0.273469</td>\n",
       "    </tr>\n",
       "    <tr>\n",
       "      <th>2</th>\n",
       "      <td>Initial LDA (10 Topics)</td>\n",
       "      <td>0.208163</td>\n",
       "    </tr>\n",
       "    <tr>\n",
       "      <th>3</th>\n",
       "      <td>Optimal LDA (20 Topics)</td>\n",
       "      <td>0.210884</td>\n",
       "    </tr>\n",
       "    <tr>\n",
       "      <th>4</th>\n",
       "      <td>Logistic Regression</td>\n",
       "      <td>0.969799</td>\n",
       "    </tr>\n",
       "  </tbody>\n",
       "</table>\n",
       "</div>"
      ],
      "text/plain": [
       "                     Model  Accuracy\n",
       "0                      NMF  0.468027\n",
       "1                  K-Means  0.273469\n",
       "2  Initial LDA (10 Topics)  0.208163\n",
       "3  Optimal LDA (20 Topics)  0.210884\n",
       "4      Logistic Regression  0.969799"
      ]
     },
     "metadata": {},
     "output_type": "display_data"
    },
    {
     "name": "stdout",
     "output_type": "stream",
     "text": [
      "\n",
      "\n"
     ]
    },
    {
     "data": {
      "text/plain": [
       "(0.46802721088435373,\n",
       " 0.27346938775510204,\n",
       " 0.20816326530612245,\n",
       " 0.2108843537414966,\n",
       " 0.9697986577181208)"
      ]
     },
     "execution_count": 23,
     "metadata": {},
     "output_type": "execute_result"
    }
   ],
   "source": [
    "import pandas as pd\n",
    "from IPython.display import display\n",
    "\n",
    "def display_dataframe(name, dataframe):\n",
    "    \"\"\"\n",
    "    Displays a Pandas DataFrame with a title using IPython.display.\n",
    "\n",
    "    Args:\n",
    "        name (str): The title to display above the DataFrame.\n",
    "        dataframe (pd.DataFrame): The DataFrame to display.\n",
    "    \"\"\"\n",
    "    print(f\"--- {name} ---\\n\")\n",
    "    display(dataframe)  # Use IPython.display for interactive display\n",
    "    print(\"\\n\")  # Add extra newline for spacing\n",
    "\n",
    "# Display accuracies\n",
    "display_dataframe(\"Model Accuracies Comparison\", pd.DataFrame({\n",
    "    \"Model\": [\"NMF\", \"K-Means\", \"Initial LDA (10 Topics)\", \"Optimal LDA (20 Topics)\", \"Logistic Regression\"],\n",
    "    \"Accuracy\": [accuracy_nmf, accuracy_kmeans, accuracy_initial_lda, accuracy_optimal_lda, accuracy_logistic_regression]\n",
    "}))\n",
    "\n",
    "accuracy_nmf, accuracy_kmeans, accuracy_initial_lda, accuracy_optimal_lda, accuracy_logistic_regression"
   ]
  },
  {
   "cell_type": "markdown",
   "metadata": {},
   "source": [
    "### Changing the Training Data Size"
   ]
  },
  {
   "cell_type": "code",
   "execution_count": 24,
   "metadata": {},
   "outputs": [
    {
     "data": {
      "image/png": "[encoded data removed]",
      "text/plain": [
       "<Figure size 720x360 with 1 Axes>"
      ]
     },
     "metadata": {
      "needs_background": "light"
     },
     "output_type": "display_data"
    }
   ],
   "source": [
    "from sklearn.model_selection import train_test_split\n",
    "from sklearn.linear_model import LogisticRegression\n",
    "from sklearn.metrics import accuracy_score\n",
    "import matplotlib.pyplot as plt\n",
    "\n",
    "# Function to evaluate model performance with different training sizes\n",
    "def evaluate_with_different_train_sizes(X, y, train_sizes, model):\n",
    "    accuracies_train = []\n",
    "    accuracies_test = []\n",
    "\n",
    "    for train_size in train_sizes:\n",
    "        X_train_subset, _, y_train_subset, _ = train_test_split(X, y, train_size=train_size, random_state=42)\n",
    "        model.fit(X_train_subset, y_train_subset)\n",
    "        y_pred_train = model.predict(X_train_subset)\n",
    "        y_pred_test = model.predict(X_test_tfidf)\n",
    "        accuracies_train.append(accuracy_score(y_train_subset, y_pred_train))\n",
    "        accuracies_test.append(accuracy_score(merged_test_data['Category'], y_pred_test))\n",
    "\n",
    "    return accuracies_train, accuracies_test\n",
    "\n",
    "# Define different training sizes to evaluate\n",
    "train_sizes = [0.1, 0.2, 0.5, 0.8]\n",
    "\n",
    "# Evaluate Logistic Regression model with different training sizes\n",
    "logistic_model = LogisticRegression(max_iter=1000)\n",
    "accuracies_train, accuracies_test = evaluate_with_different_train_sizes(X_train_tfidf, train_data['Category'], train_sizes, logistic_model)\n",
    "\n",
    "# Plot the results\n",
    "plt.figure(figsize=(10, 5))\n",
    "plt.plot(train_sizes, accuracies_train, marker='o', label='Train Accuracy')\n",
    "plt.plot(train_sizes, accuracies_test, marker='o', label='Test Accuracy')\n",
    "plt.title('Logistic Regression Performance with Different Training Sizes')\n",
    "plt.xlabel('Training Size')\n",
    "plt.ylabel('Accuracy')\n",
    "plt.legend()\n",
    "plt.show()"
   ]
  },
  {
   "cell_type": "code",
   "execution_count": 25,
   "metadata": {},
   "outputs": [
    {
     "name": "stdout",
     "output_type": "stream",
     "text": [
      "   Training Size  Train Accuracy  Test Accuracy\n",
      "0            0.1        1.000000       0.185034\n",
      "1            0.2        0.993289       0.194558\n",
      "2            0.5        0.991946       0.187755\n",
      "3            0.8        0.989933       0.187755\n"
     ]
    },
    {
     "data": {
      "text/html": [
       "<div>\n",
       "<style scoped>\n",
       "    .dataframe tbody tr th:only-of-type {\n",
       "        vertical-align: middle;\n",
       "    }\n",
       "\n",
       "    .dataframe tbody tr th {\n",
       "        vertical-align: top;\n",
       "    }\n",
       "\n",
       "    .dataframe thead th {\n",
       "        text-align: right;\n",
       "    }\n",
       "</style>\n",
       "<table border=\"1\" class=\"dataframe\">\n",
       "  <thead>\n",
       "    <tr style=\"text-align: right;\">\n",
       "      <th></th>\n",
       "      <th>Training Size</th>\n",
       "      <th>Train Accuracy</th>\n",
       "      <th>Test Accuracy</th>\n",
       "    </tr>\n",
       "  </thead>\n",
       "  <tbody>\n",
       "    <tr>\n",
       "      <th>0</th>\n",
       "      <td>0.1</td>\n",
       "      <td>1.000000</td>\n",
       "      <td>0.185034</td>\n",
       "    </tr>\n",
       "    <tr>\n",
       "      <th>1</th>\n",
       "      <td>0.2</td>\n",
       "      <td>0.993289</td>\n",
       "      <td>0.194558</td>\n",
       "    </tr>\n",
       "    <tr>\n",
       "      <th>2</th>\n",
       "      <td>0.5</td>\n",
       "      <td>0.991946</td>\n",
       "      <td>0.187755</td>\n",
       "    </tr>\n",
       "    <tr>\n",
       "      <th>3</th>\n",
       "      <td>0.8</td>\n",
       "      <td>0.989933</td>\n",
       "      <td>0.187755</td>\n",
       "    </tr>\n",
       "  </tbody>\n",
       "</table>\n",
       "</div>"
      ],
      "text/plain": [
       "   Training Size  Train Accuracy  Test Accuracy\n",
       "0            0.1        1.000000       0.185034\n",
       "1            0.2        0.993289       0.194558\n",
       "2            0.5        0.991946       0.187755\n",
       "3            0.8        0.989933       0.187755"
      ]
     },
     "metadata": {},
     "output_type": "display_data"
    }
   ],
   "source": [
    "# Display accuracies in a DataFrame\n",
    "accuracy_df = pd.DataFrame({\n",
    "    \"Training Size\": train_sizes,\n",
    "    \"Train Accuracy\": accuracies_train,\n",
    "    \"Test Accuracy\": accuracies_test\n",
    "})\n",
    "\n",
    "# Display the dataframe\n",
    "print(accuracy_df)\n",
    "\n",
    "# Display  accuracy_df using IDisplay\n",
    "\n",
    "from IPython.display import display\n",
    "display(accuracy_df)\n"
   ]
  },
  {
   "cell_type": "markdown",
   "metadata": {},
   "source": [
    "### Analysis: \n",
    "\n",
    "#### Training Accuracy:\n",
    "\n",
    "The training accuracy is very high across all training sizes, indicating that the model fits the training data well. This also suggests potential overfitting, especially with smaller training sizes.\n",
    "\n",
    "#### Test Accuracy:\n",
    "\n",
    "The test accuracy does not improve significantly with more training data. It remains around 18-19%, which is significantly lower than the accuracy we observed with the full dataset (96.98%).\n",
    "\n",
    "#### Overfitting:\n",
    "\n",
    "The high training accuracy combined with lower test accuracy is indicative of overfitting. The model performs well on the training data but fails to generalize to the test data when trained on smaller subsets. Comparison with Unsupervised Methods\n",
    "\n",
    "#### Supervised Learning (Logistic Regression):\n",
    "\n",
    "Provides very high accuracy with sufficient training data (96.98% with the full dataset). Prone to overfitting with smaller training sizes. Requires labeled data for training.\n",
    "\n",
    "#### Unsupervised Learning (LDA, NMF, K-Means):\n",
    "\n",
    "Does not require labeled data. Generally lower accuracy compared to supervised methods. Less prone to overfitting but less effective in capturing specific categories.\n",
    "\n"
   ]
  },
  {
   "cell_type": "markdown",
   "metadata": {},
   "source": [
    "## Conclusion\n",
    "\n",
    "#### Logistic Regression: This supervised learning method performs best with a sufficient amount of labeled training data. It achieves high accuracy and effectively captures the underlying categories when trained on the full dataset.\n",
    "\n",
    "#### Unsupervised Methods: These methods are useful for discovering patterns without labeled data but are less effective for classification tasks compared to supervised methods.\n",
    "\n",
    "#### The analysis suggests that while unsupervised methods provide valuable insights into the structure of the data, supervised learning methods like Logistic Regression are more effective for classification tasks when sufficient labeled data is available."
   ]
  },
  {
   "cell_type": "code",
   "execution_count": null,
   "metadata": {},
   "outputs": [],
   "source": []
  }
 ],
 "metadata": {
  "kernelspec": {
   "display_name": "Python 3",
   "language": "python",
   "name": "python3"
  },
  "language_info": {
   "codemirror_mode": {
    "name": "ipython",
    "version": 3
   },
   "file_extension": ".py",
   "mimetype": "text/x-python",
   "name": "python",
   "nbconvert_exporter": "python",
   "pygments_lexer": "ipython3",
   "version": "3.7.6"
  }
 },
 "nbformat": 4,
 "nbformat_minor": 4
}
